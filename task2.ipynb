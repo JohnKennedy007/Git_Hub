{
 "cells": [
  {
   "cell_type": "code",
   "execution_count": null,
   "id": "20244368-9395-41fe-bf77-50967a08fd62",
   "metadata": {},
   "outputs": [],
   "source": [
    "import os\n",
    "import requests\n",
    "from bs4 import BeautifulSoup\n",
    "\n",
    "def scrape_medium_article(url):\n",
    "    # Send a GET request to the provided URL\n",
    "    response = requests.get(url)\n",
    "\n",
    "    # Check if the request was successful (status code 200)\n",
    "    if response.status_code == 200:\n",
    "        # Parse the HTML content of the page using BeautifulSoup\n",
    "        soup = BeautifulSoup(response.text, 'html.parser')\n",
    "\n",
    "        # Find and extract the main text content\n",
    "        article_text = \"\"\n",
    "        for paragraph in soup.find_all('p'):\n",
    "            article_text += paragraph.get_text() + \"\\n\"\n",
    "\n",
    "        # Create a text file and write the extracted text into it\n",
    "        file_name = \"medium_article.txt\"\n",
    "        with open(file_name, 'w', encoding='utf-8') as file:\n",
    "            file.write(article_text)\n",
    "\n",
    "        print(f\"Web scraping successful. Text saved to {file_name}\")\n",
    "    else:\n",
    "        print(f\"Failed to retrieve the webpage. Status code: {response.status_code}\")\n",
    "\n",
    "if __name__ == \"__main__\":\n",
    "    # Example usage:\n",
    "    # Replace 'your_medium_article_url' with the actual Medium article URL you want to scrape\n",
    "    article_url = input(\"Enter the Medium article URL: \")\n",
    "    scrape_medium_article(article_url)\n"
   ]
  }
 ],
 "metadata": {
  "kernelspec": {
   "display_name": "Python 3 (ipykernel)",
   "language": "python",
   "name": "python3"
  },
  "language_info": {
   "codemirror_mode": {
    "name": "ipython",
    "version": 3
   },
   "file_extension": ".py",
   "mimetype": "text/x-python",
   "name": "python",
   "nbconvert_exporter": "python",
   "pygments_lexer": "ipython3",
   "version": "3.12.1"
  }
 },
 "nbformat": 4,
 "nbformat_minor": 5
}
